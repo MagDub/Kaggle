{
 "cells": [
  {
   "cell_type": "code",
   "execution_count": 3,
   "id": "80d6fb9a-63c9-4ff0-88e0-f5be96ff0d94",
   "metadata": {},
   "outputs": [],
   "source": [
    "# https://www.kaggle.com/code/spscientist/a-simple-tutorial-on-exploratory-data-analysis\n",
    "# https://www.kaggle.com/code/dgawlik/house-prices-eda\n",
    "# https://www.kaggle.com/competitions/house-prices-advanced-regression-techniques/overview/description"
   ]
  },
  {
   "cell_type": "code",
   "execution_count": 2,
   "id": "2ecd10e7-b6fb-446a-8b5f-9ec7619b6cae",
   "metadata": {},
   "outputs": [],
   "source": [
    "import pandas as pd\n",
    "import numpy as np"
   ]
  },
  {
   "cell_type": "code",
   "execution_count": null,
   "id": "55d2f7db-1eed-40cf-9859-5719e3f0a6d0",
   "metadata": {},
   "outputs": [],
   "source": []
  }
 ],
 "metadata": {
  "kernelspec": {
   "display_name": "Python 3 (ipykernel)",
   "language": "python",
   "name": "python3"
  },
  "language_info": {
   "codemirror_mode": {
    "name": "ipython",
    "version": 3
   },
   "file_extension": ".py",
   "mimetype": "text/x-python",
   "name": "python",
   "nbconvert_exporter": "python",
   "pygments_lexer": "ipython3",
   "version": "3.7.4"
  }
 },
 "nbformat": 4,
 "nbformat_minor": 5
}
